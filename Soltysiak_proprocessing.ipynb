import pandas as pd
import seaborn as sns
import matplotlib.pyplot as plt
from sklearn.preprocessing import  StandardScaler

df=pd.read_csv('C:\studia\Guass\Machine_Learning\Projekt_Mentor_Sebastian\Dane.csv')
print(df.head())
print(df.info())


# Wyrzucam wszystkie dane, które nie wpływają na pierwszy rzut oko nie wpływają na wynik
df=df.drop(['RowNumber','CustomerId','Surname'], axis=1)



print(df.head())
print(df.info())
StandardScaler(df)
print(df.describe())


#Proponuje zastosować dummy_variable dla kraju pochodzenia oraz płci.
df=pd.get_dummies(df,drop_first=True)

# Porównuje jak df wygląda teraz
print(df.head())
print(df.info())

#Wypiszę wartości unikalne dla każdej zmiennej, by zobaczyć czy nie ma tam missing values
for i in range(len(df.columns)):
        print(df.columns[i])
        print(pd.unique(df.iloc[0:,i]))

# Wykonam heatmapa korelacji
plt.show(sns.heatmap(df.corr(),xticklabels=df.corr().columns,
        yticklabels=df.corr().columns))





