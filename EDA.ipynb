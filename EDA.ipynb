{
  "nbformat": 4,
  "nbformat_minor": 0,
  "metadata": {
    "colab": {
      "name": "EDA.ipynb",
      "version": "0.3.2",
      "provenance": []
    },
    "language_info": {
      "codemirror_mode": {
        "name": "ipython",
        "version": 3
      },
      "file_extension": ".py",
      "mimetype": "text/x-python",
      "name": "python",
      "nbconvert_exporter": "python",
      "pygments_lexer": "ipython3",
      "version": "3.6.8"
    },
    "kernelspec": {
      "display_name": "Python 3",
      "language": "python",
      "name": "python3"
    }
  },
  "cells": [
    {
      "metadata": {
        "id": "_kOQlMMFxw6N",
        "colab_type": "text"
      },
      "cell_type": "markdown",
      "source": [
        "## Import necessary packages"
      ]
    },
    {
      "metadata": {
        "id": "LORiaEe8xw6S",
        "colab_type": "code",
        "colab": {},
        "outputId": "cb90a9f2-f4a7-4128-e3a2-05a357026a7e"
      },
      "cell_type": "code",
      "source": [
        "import numpy as np\n",
        "import pandas as pd\n",
        "import sklearn\n",
        "import keras\n",
        "import tensorflow\n",
        "import seaborn\n"
      ],
      "execution_count": 0,
      "outputs": [
        {
          "output_type": "stream",
          "text": [
            "Using TensorFlow backend.\n"
          ],
          "name": "stderr"
        }
      ]
    },
    {
      "metadata": {
        "id": "vSmY_iiMxw6g",
        "colab_type": "code",
        "colab": {}
      },
      "cell_type": "code",
      "source": [
        "import pandas as pd\n",
        "import seaborn as sns\n",
        "import matplotlib.pyplot as plt\n",
        "from sklearn.preprocessing import  StandardScaler\n",
        "\n",
        "df=pd.read_csv('C:\\studia\\Guass\\Machine_Learning\\Projekt_Mentor_Sebastian\\Dane.csv')\n",
        "print(df.head())\n",
        "print(df.info())\n",
        "\n",
        "\n",
        "# Wyrzucam wszystkie dane, które nie wpływają na pierwszy rzut oko nie wpływają na wynik\n",
        "df=df.drop(['RowNumber','CustomerId','Surname'], axis=1)\n",
        "\n",
        "\n",
        "\n",
        "print(df.head())\n",
        "print(df.info())\n",
        "StandardScaler(df)\n",
        "print(df.describe())\n",
        "\n",
        "\n",
        "#Proponuje zastosować dummy_variable dla kraju pochodzenia oraz płci.\n",
        "df=pd.get_dummies(df,drop_first=True)\n",
        "\n",
        "print(df.head())\n",
        "print(df.info())\n",
        "\n",
        "#Wypiszę wartości unikalne dla każdej zmiennej\n",
        "for i in range(len(df.columns)):\n",
        "        print(df.columns[i])\n",
        "        print(pd.unique(df.iloc[0:,i]))\n",
        "\n",
        "\n",
        "plt.show(sns.heatmap(df.corr(),xticklabels=df.corr().columns,\n",
        "        yticklabels=df.corr().columns))\n",
        "\n",
        "\n",
        "\n",
        "\n",
        "\n"
      ],
      "execution_count": 0,
      "outputs": []
    }
  ]
}